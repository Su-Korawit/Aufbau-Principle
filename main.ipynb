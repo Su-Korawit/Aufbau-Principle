{
 "cells": [
  {
   "cell_type": "code",
   "execution_count": 3,
   "id": "c41dfccf-ab95-43fe-aabc-a27f69c5d4f3",
   "metadata": {},
   "outputs": [],
   "source": [
    "# programs\n",
    "\n",
    "# input\n",
    "# ชื่อย่อธาตุ\n",
    "# เลขอะตอม\n",
    "# การเพิ่มลด electrons\n",
    "\n",
    "# output\n",
    "# ชื่อธาตุ\n",
    "# ภาพการจัดเรียงอิเล็กตรอน\n",
    "# การจัดเรียงอิเล็กตรอนแบบฮาปบาว\n",
    "# รูปย่อ"
   ]
  },
  {
   "cell_type": "code",
   "execution_count": null,
   "id": "9d5dcd09-3e66-410a-83c5-a7d4f0fe9d6c",
   "metadata": {},
   "outputs": [],
   "source": [
    "# knowage\n",
    "# Chem\n",
    "\n",
    "# Aufbau\n",
    "\n",
    "# n = 1 # 1s\n",
    "# n = 2 # 2s 2p\n",
    "# n = 3 # 3s 3p 3d\n",
    "# n = 4 # 4s 4p 4d 4f\n",
    "# n = 5 # 5s 5p 5d 5f 5g\n",
    "# n = 6 # 6s 6p 6d 6f 6g 6h\n",
    "# n = 7 # 7s 7p 7d 7f 7g 7h 7i\n",
    "# ต้องทำตามลำดับ ฮาฟบาว 1s -> 2s -> 2p -> 3s ...\n",
    "# http://www.satriwit3.ac.th/external_newsblog.php?links=1357\n",
    "\n",
    "# simply\n",
    "# หาว่า electrons มันใกล้เคียง แก็สเฉื่อยตัวไหน\n",
    "\n",
    "# python for programing\n",
    "# tkinter\n",
    "# matplotlib\n",
    "# chem"
   ]
  },
  {
   "cell_type": "code",
   "execution_count": 7,
   "id": "03cfe67e-8224-4948-979f-0f58191c4e65",
   "metadata": {},
   "outputs": [
    {
     "name": "stdin",
     "output_type": "stream",
     "text": [
      " Al\n",
      " 20\n",
      " 2-\n"
     ]
    },
    {
     "name": "stdout",
     "output_type": "stream",
     "text": [
      "Aluminide ion\n",
      "[2, 8, 10, 2]\n"
     ]
    },
    {
     "data": {
      "image/png": "[encoded data removed]",
      "text/plain": [
       "<Figure size 640x480 with 1 Axes>"
      ]
     },
     "metadata": {},
     "output_type": "display_data"
    },
    {
     "name": "stdout",
     "output_type": "stream",
     "text": [
      "[(1, 's', 2), (2, 's', 2), (2, 'p', 6), (3, 's', 2), (3, 'p', 6), (4, 's', 2), (3, 'd', 2)]\n",
      "['[Ar]', (4, 's', 2), (3, 'd', 2)]\n"
     ]
    }
   ],
   "source": [
    "import matplotlib.pyplot as plt\n",
    "import numpy as np\n",
    "\n",
    "# ภาพข้อมูลการจัดเรียงอิเล็กตรอน\n",
    "def electrons_img(electrons):\n",
    "    # electrons = [2, 1]\n",
    "    \n",
    "    # สร้างวงกลมสำหรับชั้นอิเล็กตรอนแต่ละชั้น\n",
    "    fig, ax = plt.subplots()\n",
    "    ax.set_aspect('equal', 'box')\n",
    "    ax.set_xlim(-8, 8)\n",
    "    ax.set_ylim(-8, 8)\n",
    "    \n",
    "    # วาดวงกลมสำหรับแต่ละชั้น\n",
    "    for i in range(len(electrons)):\n",
    "        circle = plt.Circle((0, 0), i + 1, color='k', fill=False, linestyle='solid')\n",
    "        ax.add_artist(circle)\n",
    "    \n",
    "    # วาดอิเล็กตรอนในแต่ละชั้น\n",
    "    for i, e in enumerate(electrons):\n",
    "        theta = np.linspace(0, 2 * np.pi, e, endpoint=False)\n",
    "        x = (i + 1) * np.cos(theta)\n",
    "        y = (i + 1) * np.sin(theta)\n",
    "        ax.plot(x, y, 'ko', label=f'ชั้น {i + 1}')\n",
    "    \n",
    "    # วาดนิวเคลียส\n",
    "    ax.plot(0, 0, 'ro', markersize=10, label='นิวเคลียส')\n",
    "    \n",
    "    # ลบเส้นและตัวเลขบนแกน\n",
    "    ax.axis('off')\n",
    "    \n",
    "    plt.show()\n",
    "\n",
    "#input\n",
    "ninkname = input()\n",
    "atomic = int(input())\n",
    "ionelec = input()\n",
    "\n",
    "#process\n",
    "# to ionelec\n",
    "if ionelec[-1] == '+' or ionelec[-1] == '-':\n",
    "    ionelec = eval(ionelec[-1] + ionelec[:-1])\n",
    "else: ionelec = int(ionelec)\n",
    "# count electrons\n",
    "electrons = atomic - ionelec\n",
    "\n",
    "#name\n",
    "elements = {'H': 'Hydrogen', 'He': 'Helium', 'Li': 'Lithium', 'Be': 'Beryllium', 'B': 'Boron', 'C': 'Carbon', 'N': 'Nitrogen', 'O': 'Oxygen', 'F': 'Fluorine', 'Ne': 'Neon', 'Na': 'Sodium', 'Mg': 'Magnesium', 'Al': 'Aluminium', 'Si': 'Silicon', 'P': 'Phosphorus', 'S': 'Sulfur', 'Cl': 'Chlorine', 'Ar': 'Argon', 'K': 'Potassium', 'Ca': 'Calcium', 'Sc': 'Scandium', 'Ti': 'Titanium', 'V': 'Vanadium', 'Cr': 'Chromium', 'Mn': 'Manganese', 'Fe': 'Iron', 'Co': 'Cobalt', 'Ni': 'Nickel', 'Cu': 'Copper', 'Zn': 'Zinc', 'Ga': 'Gallium', 'Ge': 'Germanium', 'As': 'Arsenic', 'Se': 'Selenium', 'Br': 'Bromine', 'Kr': 'Krypton', 'Rb': 'Rubidium', 'Sr': 'Strontium', 'Y': 'Yttrium', 'Zr': 'Zirconium', 'Nb': 'Niobium', 'Mo': 'Molybdenum', 'Tc': 'Technetium', 'Ru': 'Ruthenium', 'Rh': 'Rhodium', 'Pd': 'Palladium', 'Ag': 'Silver', 'Cd': 'Cadmium', 'In': 'Indium', 'Sn': 'Tin', 'Sb': 'Antimony', 'Te': 'Tellurium', 'I': 'Iodine', 'Xe': 'Xenon', 'Cs': 'Cesium', 'Ba': 'Barium', 'La': 'Lanthanum', 'Ce': 'Cerium', 'Pr': 'Praseodymium', 'Nd': 'Neodymium', 'Pm': 'Promethium', 'Sm': 'Samarium', 'Eu': 'Europium', 'Gd': 'Gadolinium', 'Tb': 'Terbium', 'Dy': 'Dysprosium', 'Ho': 'Holmium', 'Er': 'Erbium', 'Tm': 'Thulium', 'Yb': 'Ytterbium', 'Lu': 'Lutetium', 'Hf': 'Hafnium', 'Ta': 'Tantalum', 'W': 'Tungsten', 'Re': 'Rhenium', 'Os': 'Osmium', 'Ir': 'Iridium', 'Pt': 'Platinum', 'Au': 'Gold', 'Hg': 'Mercury', 'Tl': 'Thallium', 'Pb': 'Lead', 'Bi': 'Bismuth', 'Po': 'Polonium', 'At': 'Astatine', 'Rn': 'Radon', 'Fr': 'Francium', 'Ra': 'Radium', 'Ac': 'Actinium', 'Th': 'Thorium', 'Pa': 'Protactinium', 'U': 'Uranium', 'Np': 'Neptunium', 'Pu': 'Plutonium', 'Am': 'Americium', 'Cm': 'Curium', 'Bk': 'Berkelium', 'Cf': 'Californium', 'Es': 'Einsteinium', 'Fm': 'Fermium', 'Md': 'Mendelevium', 'No': 'Nobelium', 'Lr': 'Lawrencium', 'Rf': 'Rutherfordium', 'Db': 'Dubnium', 'Sg': 'Seaborgium', 'Bh': 'Bohrium', 'Hs': 'Hassium', 'Mt': 'Meitnerium', 'Ds': 'Darmstadtium', 'Rg': 'Roentgenium', 'Cn': 'Copernicium', 'Nh': 'Nihonium', 'Fl': 'Flerovium', 'Mc': 'Moscovium', 'Lv': 'Livermorium', 'Ts': 'Tennessine', 'Og': 'Oganesson'}\n",
    "ninkname = elements[ninkname] #normal\n",
    "\n",
    "vowels = \"aeiou\"\n",
    "def vowels_check(letter):\n",
    "    for l in vowels:\n",
    "        if l == letter[len(letter)-4]: return True\n",
    "\n",
    "if ionelec != 0:\n",
    "    if ionelec > 0:\n",
    "        ninkname += ' ion'\n",
    "    else:\n",
    "        if vowels_check(ninkname) == True: ninkname = ninkname[:len(ninkname)-4]\n",
    "        else: ninkname = ninkname[:len(ninkname)-3]\n",
    "        ninkname += 'ide ion'\n",
    "        \n",
    "# aufbau & power\n",
    "def aufbaupower(electrons):\n",
    "    orbital = {2:'s', 6:'p', 10:'d', 14:'f', 18:'g', 22:'h', 26:'i'}\n",
    "    data = [(1, 2), (2, 2), (2, 6), (3, 2), (3, 6), (4, 2), (3, 10), (4, 6), (5, 2), (4, 10), (5, 6), (6, 2), (4, 14), (5, 10), (6, 6), (7, 2), (5, 14), (6, 10), (7, 6), (5, 18), (6, 14), (7, 10), (6, 18), (7, 14), (6, 22), (7, 18), (7, 26)]\n",
    "    aufbau = []\n",
    "    power = [0, 0, 0, 0, 0, 0, 0]\n",
    "    for i, j in data:\n",
    "        if electrons > j:\n",
    "            power[i-1] += j\n",
    "            aufbau.append((i, orbital[j], j))\n",
    "        else:\n",
    "            power[i-1] += electrons\n",
    "            aufbau.append((i, orbital[j], electrons))\n",
    "            break\n",
    "        electrons -= j\n",
    "    for k in range(power.count(0)):\n",
    "            power.pop(len(power)-1)\n",
    "    return aufbau, power #Tuple\n",
    "\n",
    "#simply\n",
    "inert = [(2, '[He]'), (10, '[Ne]'), (18, '[Ar]'), (36, '[Kr]'), (54, '[Xe]'), (86, '[Rn]'), (118, '[Og]')]\n",
    "simply = aufbaupower(electrons)[0]\n",
    "for m in range(7):\n",
    "    if electrons > inert[m][0] and electrons <= inert[m+1][0]:\n",
    "        for n in range(len(aufbaupower(inert[m][0])[0])):\n",
    "            simply.remove(aufbaupower(inert[m][0])[0][n])\n",
    "        simply.insert(0, inert[m][1])\n",
    "        break\n",
    "    \n",
    "print(ninkname)\n",
    "print(aufbaupower(electrons)[1])\n",
    "electrons_img(aufbaupower(electrons)[1])\n",
    "print(aufbaupower(electrons)[0])\n",
    "print(simply)"
   ]
  }
 ],
 "metadata": {
  "kernelspec": {
   "display_name": "Python 3 (ipykernel)",
   "language": "python",
   "name": "python3"
  },
  "language_info": {
   "codemirror_mode": {
    "name": "ipython",
    "version": 3
   },
   "file_extension": ".py",
   "mimetype": "text/x-python",
   "name": "python",
   "nbconvert_exporter": "python",
   "pygments_lexer": "ipython3",
   "version": "3.11.7"
  }
 },
 "nbformat": 4,
 "nbformat_minor": 5
}
