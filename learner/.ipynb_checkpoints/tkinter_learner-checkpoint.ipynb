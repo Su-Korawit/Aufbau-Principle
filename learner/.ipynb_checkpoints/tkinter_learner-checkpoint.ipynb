{
 "cells": [
  {
   "cell_type": "code",
   "execution_count": 254,
   "id": "46199af6-0431-4bc4-a7a3-7bff47240072",
   "metadata": {},
   "outputs": [
    {
     "data": {
      "text/plain": [
       "''"
      ]
     },
     "execution_count": 254,
     "metadata": {},
     "output_type": "execute_result"
    }
   ],
   "source": [
    "#Structure\n",
    "import tkinter as tk\n",
    "app = tk.Tk()\n",
    "app.title('Electron Configuration')"
   ]
  },
  {
   "cell_type": "markdown",
   "id": "d24b417c-2811-4db7-b9f9-b1f36d486416",
   "metadata": {},
   "source": [
    "## Basic"
   ]
  },
  {
   "cell_type": "code",
   "execution_count": 47,
   "id": "fdd25666-f762-495d-999e-8509dc0143fb",
   "metadata": {},
   "outputs": [],
   "source": [
    "#Geometry Medthod\n",
    "geotext = tk.Label(text='geo medthod').pack()\n",
    "\n",
    "or_geotext = tk.Label(text='geo medthod')\n",
    "or_geotext.pack()"
   ]
  },
  {
   "cell_type": "code",
   "execution_count": 49,
   "id": "7b88e0f4-9b9e-4bfe-a7d6-345ac00d7e09",
   "metadata": {},
   "outputs": [],
   "source": [
    "#Widget\n",
    "label = tk.Label(text='Hello world').pack()\n",
    "b1 = tk.Button(text=\"Click me!\").pack()\n",
    "e1 = tk.Entry().pack()\n",
    "t1 = tk.Text().pack()"
   ]
  },
  {
   "cell_type": "code",
   "execution_count": 81,
   "id": "5a122a56-5312-48a2-a2f4-88010bc7e49b",
   "metadata": {},
   "outputs": [],
   "source": [
    "#Function bind\n",
    "\n",
    "#basic\n",
    "def print_hello():\n",
    "    print('Hello World')\n",
    "\n",
    "b_function = tk.Button(text=\"Don't Click me!\", command=print_hello).pack()\n",
    "\n",
    "#Adv lamda\n",
    "def print_something(text):\n",
    "    print(text)\n",
    "\n",
    "b_lamdafunc = tk.Button(text=\"Adv\", command= lambda :print_something('Print This')).pack()"
   ]
  },
  {
   "cell_type": "markdown",
   "id": "fde91665-90be-45f5-84bc-91c7fb430ae9",
   "metadata": {},
   "source": [
    "### Summary Basic\n",
    "#### Geometry Medthod\n",
    "* .pack()\n",
    "Use it for display __Widget__\n",
    "#### Widget\n",
    "* tk.Label(text='text...')\n",
    "* tk.Button(text='text...')\n",
    "* tk.Entry()\n",
    "* tk.Text()\n",
    "#### Function\n",
    "* basic function, command=function # use it in tk.button\n",
    "* adv function, command= lambda :function(variable)"
   ]
  },
  {
   "cell_type": "markdown",
   "id": "54c1f1df-cb46-430a-8f8f-a1098ab34023",
   "metadata": {},
   "source": [
    "## Adv"
   ]
  },
  {
   "cell_type": "code",
   "execution_count": 103,
   "id": "4af6b330-ad4f-4b43-8c4a-6d3dfad9b1f7",
   "metadata": {},
   "outputs": [
    {
     "name": "stdout",
     "output_type": "stream",
     "text": [
      "8\n",
      "8\n"
     ]
    }
   ],
   "source": [
    "#Lambda function as Anonymous funtion\n",
    "\n",
    "# basic function\n",
    "def doubler(n):\n",
    "    return n * 2\n",
    "\n",
    "print(doubler(4))\n",
    "#ถ้าจะทำมาแล้วใช้แค่ครั้งเดียวจะใช้ Lambda\n",
    "\n",
    "# lambda variable: (reture)\n",
    "print((lambda n: n * 2)(4))"
   ]
  },
  {
   "cell_type": "code",
   "execution_count": 256,
   "id": "8ebe4f41-f9cd-4834-86b7-8ca0ca40dd6a",
   "metadata": {},
   "outputs": [],
   "source": [
    "#Geometry Medthod\n",
    "# .pack() #จัดหน้าเท่าๆกัน\n",
    "# <tkinterInstance>.pack(parent, option)\n",
    "# tk.Button(app,text='A', bg = \"yellow\").pack()\n",
    "# tk.Button(app,text='B', bg = \"yellow\").pack()\n",
    "# tk.Button(app,text='C', bg = \"yellow\").pack()\n",
    "\n",
    "#Parameters\n",
    "#side, (parameters)tkinter.TOP LEFT RIGHT BOTTOM ย้าย\n",
    "# tk.Button(app,text='A', bg = \"yellow\").pack(side=tk.LEFT)\n",
    "# tk.Button(app,text='B', bg = \"yellow\").pack(side=tk.LEFT)\n",
    "# tk.Button(app,text='C', bg = \"yellow\").pack(side=tk.LEFT)\n",
    "\n",
    "#fill, (parameters)tkinter.X Y BOTH คลุมพื้นที่\n",
    "# tk.Button(app,text='D', bg = \"yellow\").pack(fill=tk.X)\n",
    "# tk.Button(app,text='E', bg = \"yellow\").pack(fill=tk.Y)\n",
    "# tk.Button(app,text='F', bg = \"yellow\").pack(fill=tk.BOTH)\n",
    "\n",
    "#expand , (parameters)True False จัดสรรพื้นที่ที่เหลือ\n",
    "# tk.Button(app,text='I', bg = \"yellow\").pack(expand=True)\n",
    "# tk.Button(app,text='G', bg = \"yellow\").pack(expand=True)\n",
    "# tk.Button(app,text='K', bg = \"yellow\").pack(expand=True)\n",
    "\n",
    "#ส่วนมากจะใช้ร่วมกัน\n",
    "# tk.Button(app,text='A', bg = \"yellow\").pack(side=tk.LEFT,fill=tk.Y) \n",
    "#ใช้ side จอง แล้วใช้ fill คลุม\n",
    "\n",
    "# tk.Button(app,text='A', bg = \"yellow\").pack(side=tk.LEFT, expand=True) \n",
    "# tk.Button(app,text='B', bg = \"yellow\").pack(side=tk.LEFT, expand=True) \n",
    "# tk.Button(app,text='C', bg = \"yellow\").pack(side=tk.LEFT, expand=True) \n",
    "\n",
    "#Example\n",
    "tk.Button(app,text='A', bg = \"yellow\").pack(side=tk.LEFT, fill=tk.BOTH, expand=True) \n",
    "tk.Button(app,text='B', bg = \"yellow\").pack(side=tk.LEFT, fill=tk.BOTH, expand=True) \n",
    "tk.Button(app,text='C', bg = \"yellow\").pack(side=tk.LEFT, fill=tk.BOTH, expand=True)\n",
    "tk.Button(app,text='D', bg = \"yellow\").pack(side=tk.TOP, fill=tk.BOTH, expand=True) \n",
    "tk.Button(app,text='E', bg = \"yellow\").pack(side=tk.TOP, fill=tk.BOTH, expand=True) \n",
    "tk.Button(app,text='F', bg = \"yellow\").pack(side=tk.TOP, fill=tk.BOTH, expand=True) \n",
    "tk.Button(app,text='G', bg = \"yellow\").pack(side=tk.BOTTOM, fill=tk.BOTH, expand=True) \n",
    "tk.Button(app,text='H', bg = \"yellow\").pack(side=tk.BOTTOM, fill=tk.BOTH, expand=True) \n",
    "tk.Button(app,text='I', bg = \"yellow\").pack(side=tk.BOTTOM, fill=tk.BOTH, expand=True) "
   ]
  },
  {
   "cell_type": "code",
   "execution_count": null,
   "id": "3aa6322c-1a31-4662-a05f-6fe149b9e966",
   "metadata": {},
   "outputs": [],
   "source": []
  },
  {
   "cell_type": "code",
   "execution_count": 258,
   "id": "e2d64956-2e2b-4cf6-a316-afbdb2622cf9",
   "metadata": {},
   "outputs": [],
   "source": [
    "#Structure\n",
    "app.mainloop()"
   ]
  },
  {
   "cell_type": "code",
   "execution_count": null,
   "id": "7f03d14a-3979-4c87-9d6b-a36f43d429b3",
   "metadata": {},
   "outputs": [],
   "source": []
  }
 ],
 "metadata": {
  "kernelspec": {
   "display_name": "Python 3 (ipykernel)",
   "language": "python",
   "name": "python3"
  },
  "language_info": {
   "codemirror_mode": {
    "name": "ipython",
    "version": 3
   },
   "file_extension": ".py",
   "mimetype": "text/x-python",
   "name": "python",
   "nbconvert_exporter": "python",
   "pygments_lexer": "ipython3",
   "version": "3.11.7"
  }
 },
 "nbformat": 4,
 "nbformat_minor": 5
}
