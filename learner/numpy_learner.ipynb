{
 "cells": [
  {
   "cell_type": "code",
   "execution_count": 9,
   "id": "78a2070d-94f6-4797-85ab-363c473f8955",
   "metadata": {},
   "outputs": [
    {
     "name": "stdout",
     "output_type": "stream",
     "text": [
      "[0.         0.2991993  0.5983986  0.8975979  1.1967972  1.4959965\n",
      " 1.7951958  2.0943951  2.3935944  2.6927937  2.991993   3.2911923\n",
      " 3.5903916  3.8895909  4.1887902  4.48798951 4.78718881 5.08638811\n",
      " 5.38558741 5.68478671 5.98398601]\n"
     ]
    }
   ],
   "source": [
    "import numpy as np\n",
    "theta = np.linspace(0, 2 * np.pi, 21, endpoint=False)\n",
    "print(theta)"
   ]
  },
  {
   "cell_type": "code",
   "execution_count": null,
   "id": "c1c15498-5612-44cf-9631-bf4ffec3379d",
   "metadata": {},
   "outputs": [],
   "source": []
  }
 ],
 "metadata": {
  "kernelspec": {
   "display_name": "Python 3 (ipykernel)",
   "language": "python",
   "name": "python3"
  },
  "language_info": {
   "codemirror_mode": {
    "name": "ipython",
    "version": 3
   },
   "file_extension": ".py",
   "mimetype": "text/x-python",
   "name": "python",
   "nbconvert_exporter": "python",
   "pygments_lexer": "ipython3",
   "version": "3.11.7"
  }
 },
 "nbformat": 4,
 "nbformat_minor": 5
}
